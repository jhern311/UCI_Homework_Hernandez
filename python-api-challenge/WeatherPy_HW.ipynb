{
 "cells": [
  {
   "cell_type": "markdown",
   "metadata": {},
   "source": [
    "# WeatherPy\n",
    "----\n",
    "\n",
    "#### Note\n",
    "* Instructions have been included for each segment. You do not have to follow them exactly, but they are included to help you think through the steps."
   ]
  },
  {
   "cell_type": "code",
   "execution_count": 1,
   "metadata": {},
   "outputs": [
    {
     "name": "stdout",
     "output_type": "stream",
     "text": [
      "Requirement already satisfied: citipy in c:\\users\\tonia\\anaconda3\\envs\\pythondata\\lib\\site-packages (0.0.5)\n",
      "Requirement already satisfied: kdtree>=0.12 in c:\\users\\tonia\\anaconda3\\envs\\pythondata\\lib\\site-packages (from citipy) (0.16)\n"
     ]
    },
    {
     "name": "stderr",
     "output_type": "stream",
     "text": [
      "WARNING: You are using pip version 20.2.3; however, version 20.2.4 is available.\n",
      "You should consider upgrading via the 'c:\\users\\tonia\\anaconda3\\envs\\pythondata\\python.exe -m pip install --upgrade pip' command.\n"
     ]
    }
   ],
   "source": [
    "!pip install citipy"
   ]
  },
  {
   "cell_type": "code",
   "execution_count": 2,
   "metadata": {
    "scrolled": true
   },
   "outputs": [],
   "source": [
    "# Dependencies and Setup\n",
    "import matplotlib.pyplot as plt\n",
    "import pandas as pd\n",
    "import numpy as np\n",
    "import requests\n",
    "import time\n",
    "import scipy.stats as st\n",
    "from scipy.stats import linregress\n",
    "\n",
    "# Import API key\n",
    "from api_keys import weather_api_key\n",
    "\n",
    "# Incorporated citipy to determine city based on latitude and longitude\n",
    "from citipy import citipy\n",
    "\n",
    "# Output File (CSV)\n",
    "output_data_file = \"output_data/cities.csv\"\n",
    "\n",
    "# Range of latitudes and longitudes\n",
    "lat_range = (-90, 90)\n",
    "lng_range = (-180, 180)"
   ]
  },
  {
   "cell_type": "markdown",
   "metadata": {},
   "source": [
    "## Generate Cities List"
   ]
  },
  {
   "cell_type": "code",
   "execution_count": 3,
   "metadata": {},
   "outputs": [
    {
     "data": {
      "text/plain": [
       "620"
      ]
     },
     "execution_count": 3,
     "metadata": {},
     "output_type": "execute_result"
    }
   ],
   "source": [
    "# List for holding lat_lngs and cities\n",
    "lat_lngs = []\n",
    "cities = []\n",
    "\n",
    "# Create a set of random lat and lng combinations\n",
    "lats = np.random.uniform(low=-90.000, high=90.000, size=1500)\n",
    "lngs = np.random.uniform(low=-180.000, high=180.000, size=1500)\n",
    "lat_lngs = zip(lats, lngs)\n",
    "\n",
    "# Identify nearest city for each lat, lng combination\n",
    "for lat_lng in lat_lngs:\n",
    "    city = citipy.nearest_city(lat_lng[0], lat_lng[1]).city_name\n",
    "    \n",
    "    # If the city is unique, then add it to a our cities list\n",
    "    if city not in cities:\n",
    "        cities.append(city)\n",
    "\n",
    "# Print the city count to confirm sufficient count\n",
    "len(cities)\n"
   ]
  },
  {
   "cell_type": "code",
   "execution_count": 4,
   "metadata": {},
   "outputs": [
    {
     "name": "stdout",
     "output_type": "stream",
     "text": [
      "{'coord': {'lon': 152.43, 'lat': -3.67}, 'weather': [{'id': 804, 'main': 'Clouds', 'description': 'overcast clouds', 'icon': '04n'}], 'base': 'stations', 'main': {'temp': 80.08, 'feels_like': 86.65, 'temp_min': 80.08, 'temp_max': 80.08, 'pressure': 1010, 'humidity': 81, 'sea_level': 1010, 'grnd_level': 1004}, 'visibility': 10000, 'wind': {'speed': 5.41, 'deg': 77}, 'clouds': {'all': 100}, 'dt': 1604257505, 'sys': {'country': 'PG', 'sunrise': 1604258789, 'sunset': 1604302866}, 'timezone': 36000, 'id': 2090021, 'name': 'Namatanai', 'cod': 200}\n"
     ]
    }
   ],
   "source": [
    "# Save config information.\n",
    "url = \"http://api.openweathermap.org/data/2.5/weather?\"\n",
    "units = \"imperial\"\n",
    "api_keys = weather_api_key\n",
    "\n",
    "# Build partial query URL\n",
    "query_url = f\"{url}appid={api_keys}&units={units}&q=\"\n",
    "response = requests.get(query_url + city).json()\n",
    "print(response)"
   ]
  },
  {
   "cell_type": "markdown",
   "metadata": {},
   "source": [
    "### Perform API Calls\n",
    "* Perform a weather check on each city using a series of successive API calls.\n",
    "* Include a print log of each city as it'sbeing processed (with the city number and city name).\n"
   ]
  },
  {
   "cell_type": "code",
   "execution_count": 5,
   "metadata": {
    "scrolled": false
   },
   "outputs": [
    {
     "name": "stdout",
     "output_type": "stream",
     "text": [
      "Beginning Data Retrieval\n",
      "-----------------------------\n",
      "Processing Record 1 of Set 1 | castro\n",
      "Processing Record 2 of Set 1 | tuktoyaktuk\n",
      "Processing Record 3 of Set 1 | springdale\n",
      "Processing Record 4 of Set 1 | ahipara\n",
      "Processing Record 5 of Set 1 | ushuaia\n",
      "Processing Record 6 of Set 1 | hobart\n",
      "City not found. Skipping...\n",
      "City not found. Skipping...\n",
      "Processing Record 7 of Set 1 | jalu\n",
      "Processing Record 8 of Set 1 | rikitea\n",
      "Processing Record 9 of Set 1 | lyngseidet\n",
      "Processing Record 10 of Set 1 | roma\n",
      "Processing Record 11 of Set 1 | vaini\n",
      "Processing Record 12 of Set 1 | nenjiang\n",
      "Processing Record 13 of Set 1 | cherskiy\n",
      "Processing Record 14 of Set 1 | calama\n",
      "Processing Record 15 of Set 1 | bambous virieux\n",
      "Processing Record 16 of Set 1 | nikolskoye\n",
      "Processing Record 17 of Set 1 | caravelas\n",
      "Processing Record 18 of Set 1 | severo-kurilsk\n",
      "Processing Record 19 of Set 1 | pevek\n",
      "Processing Record 20 of Set 1 | atar\n",
      "Processing Record 21 of Set 1 | constitucion\n",
      "Processing Record 22 of Set 1 | leningradskiy\n",
      "Processing Record 23 of Set 1 | yerbogachen\n",
      "Processing Record 24 of Set 1 | puerto ayora\n",
      "Processing Record 25 of Set 1 | touros\n",
      "Processing Record 26 of Set 1 | butaritari\n",
      "Processing Record 27 of Set 1 | atuona\n",
      "Processing Record 28 of Set 1 | lavrentiya\n",
      "Processing Record 29 of Set 1 | hithadhoo\n",
      "Processing Record 30 of Set 1 | klaksvik\n",
      "Processing Record 31 of Set 1 | beira\n",
      "Processing Record 32 of Set 1 | port elizabeth\n",
      "Processing Record 33 of Set 1 | quelimane\n",
      "Processing Record 34 of Set 1 | kapaa\n",
      "Processing Record 35 of Set 1 | kansanshi\n",
      "Processing Record 36 of Set 1 | mehamn\n",
      "Processing Record 37 of Set 1 | wajir\n",
      "Processing Record 38 of Set 1 | codrington\n",
      "Processing Record 39 of Set 1 | lompoc\n",
      "Processing Record 40 of Set 1 | albany\n",
      "Processing Record 41 of Set 1 | east london\n",
      "Processing Record 42 of Set 1 | mataura\n",
      "Processing Record 43 of Set 1 | busselton\n",
      "Processing Record 44 of Set 1 | tasiilaq\n",
      "Processing Record 45 of Set 1 | buta\n",
      "Processing Record 46 of Set 1 | wahiawa\n",
      "Processing Record 47 of Set 1 | san rafael\n",
      "Processing Record 48 of Set 1 | isangel\n",
      "Processing Record 49 of Set 1 | takaka\n",
      "Processing Record 1 of Set 2 | saint-philippe\n",
      "Processing Record 2 of Set 2 | cap malheureux\n",
      "Processing Record 3 of Set 2 | bucerias\n",
      "Processing Record 4 of Set 2 | tazovskiy\n",
      "Processing Record 5 of Set 2 | coquimbo\n",
      "City not found. Skipping...\n",
      "Processing Record 6 of Set 2 | shimoda\n",
      "Processing Record 7 of Set 2 | lebu\n",
      "Processing Record 8 of Set 2 | brora\n",
      "Processing Record 9 of Set 2 | qunduz\n",
      "Processing Record 10 of Set 2 | fort morgan\n",
      "Processing Record 11 of Set 2 | yellowknife\n",
      "City not found. Skipping...\n",
      "Processing Record 12 of Set 2 | pacific grove\n",
      "City not found. Skipping...\n",
      "Processing Record 13 of Set 2 | narsaq\n",
      "Processing Record 14 of Set 2 | avarua\n",
      "Processing Record 15 of Set 2 | yar-sale\n",
      "Processing Record 16 of Set 2 | katherine\n",
      "Processing Record 17 of Set 2 | inhambane\n",
      "Processing Record 18 of Set 2 | nchelenge\n",
      "Processing Record 19 of Set 2 | bredasdorp\n",
      "Processing Record 20 of Set 2 | takhtamygda\n",
      "Processing Record 21 of Set 2 | tadine\n",
      "Processing Record 22 of Set 2 | angoche\n",
      "Processing Record 23 of Set 2 | chuy\n",
      "Processing Record 24 of Set 2 | concord\n",
      "Processing Record 25 of Set 2 | jamestown\n",
      "Processing Record 26 of Set 2 | mar del plata\n",
      "Processing Record 27 of Set 2 | new norfolk\n",
      "City not found. Skipping...\n",
      "Processing Record 28 of Set 2 | paamiut\n",
      "Processing Record 29 of Set 2 | alofi\n",
      "Processing Record 30 of Set 2 | dese\n",
      "Processing Record 31 of Set 2 | san patricio\n",
      "Processing Record 32 of Set 2 | pisco\n",
      "City not found. Skipping...\n",
      "Processing Record 33 of Set 2 | punta arenas\n",
      "Processing Record 34 of Set 2 | thayetmyo\n",
      "Processing Record 35 of Set 2 | provideniya\n",
      "Processing Record 36 of Set 2 | brownsville\n",
      "Processing Record 37 of Set 2 | rehoboth\n",
      "Processing Record 38 of Set 2 | guerrero negro\n",
      "Processing Record 39 of Set 2 | hermanus\n",
      "Processing Record 40 of Set 2 | chokurdakh\n",
      "City not found. Skipping...\n",
      "Processing Record 41 of Set 2 | ndioum\n",
      "City not found. Skipping...\n",
      "Processing Record 42 of Set 2 | the valley\n",
      "Processing Record 43 of Set 2 | lodeynoye pole\n",
      "Processing Record 44 of Set 2 | cape town\n",
      "Processing Record 45 of Set 2 | iqaluit\n",
      "Processing Record 46 of Set 2 | atyashevo\n",
      "Processing Record 47 of Set 2 | shache\n",
      "Processing Record 48 of Set 2 | vicuna\n",
      "Processing Record 49 of Set 2 | inawashiro\n",
      "Processing Record 1 of Set 3 | tuatapere\n",
      "Processing Record 2 of Set 3 | arraial do cabo\n",
      "Processing Record 3 of Set 3 | nekhayevskiy\n",
      "Processing Record 4 of Set 3 | shelburne\n",
      "Processing Record 5 of Set 3 | kruisfontein\n",
      "Processing Record 6 of Set 3 | bluff\n",
      "City not found. Skipping...\n",
      "Processing Record 7 of Set 3 | barentu\n",
      "Processing Record 8 of Set 3 | green river\n",
      "City not found. Skipping...\n",
      "Processing Record 9 of Set 3 | grindavik\n",
      "Processing Record 10 of Set 3 | klyuchi\n",
      "Processing Record 11 of Set 3 | aykhal\n",
      "Processing Record 12 of Set 3 | barrow\n",
      "Processing Record 13 of Set 3 | beringovskiy\n",
      "Processing Record 14 of Set 3 | bethlehem\n",
      "Processing Record 15 of Set 3 | cayenne\n",
      "Processing Record 16 of Set 3 | norman wells\n",
      "Processing Record 17 of Set 3 | mbaiki\n",
      "Processing Record 18 of Set 3 | oum hadjer\n",
      "Processing Record 19 of Set 3 | port hedland\n",
      "Processing Record 20 of Set 3 | wagar\n",
      "Processing Record 21 of Set 3 | guerrero\n",
      "Processing Record 22 of Set 3 | carnarvon\n",
      "Processing Record 23 of Set 3 | kodiak\n",
      "Processing Record 24 of Set 3 | qaanaaq\n",
      "Processing Record 25 of Set 3 | havoysund\n",
      "Processing Record 26 of Set 3 | port lincoln\n",
      "City not found. Skipping...\n",
      "Processing Record 27 of Set 3 | sur\n",
      "City not found. Skipping...\n",
      "City not found. Skipping...\n",
      "City not found. Skipping...\n",
      "Processing Record 28 of Set 3 | emerald\n",
      "Processing Record 29 of Set 3 | mwene-ditu\n",
      "Processing Record 30 of Set 3 | zaysan\n",
      "Processing Record 31 of Set 3 | sungurlu\n",
      "Processing Record 32 of Set 3 | bengkulu\n",
      "Processing Record 33 of Set 3 | hamilton\n",
      "Processing Record 34 of Set 3 | konya\n",
      "Processing Record 35 of Set 3 | kachug\n",
      "Processing Record 36 of Set 3 | lebanon\n",
      "Processing Record 37 of Set 3 | magistralnyy\n",
      "Processing Record 38 of Set 3 | deputatskiy\n",
      "Processing Record 39 of Set 3 | esperance\n",
      "Processing Record 40 of Set 3 | colares\n",
      "Processing Record 41 of Set 3 | souillac\n",
      "Processing Record 42 of Set 3 | walvis bay\n",
      "City not found. Skipping...\n",
      "City not found. Skipping...\n",
      "Processing Record 43 of Set 3 | ballina\n",
      "Processing Record 44 of Set 3 | meulaboh\n",
      "Processing Record 45 of Set 3 | marawi\n",
      "Processing Record 46 of Set 3 | quatre cocos\n",
      "Processing Record 47 of Set 3 | bethel\n",
      "Processing Record 48 of Set 3 | khatanga\n",
      "Processing Record 49 of Set 3 | dingle\n",
      "Processing Record 1 of Set 4 | naryan-mar\n",
      "Processing Record 2 of Set 4 | nioaque\n",
      "Processing Record 3 of Set 4 | peniche\n",
      "Processing Record 4 of Set 4 | victoria point\n",
      "Processing Record 5 of Set 4 | chimbote\n",
      "Processing Record 6 of Set 4 | araria\n",
      "Processing Record 7 of Set 4 | shingu\n",
      "Processing Record 8 of Set 4 | taoudenni\n",
      "Processing Record 9 of Set 4 | chara\n",
      "Processing Record 10 of Set 4 | palmer\n",
      "Processing Record 11 of Set 4 | bubaque\n",
      "Processing Record 12 of Set 4 | knysna\n",
      "Processing Record 13 of Set 4 | sao filipe\n",
      "Processing Record 14 of Set 4 | merauke\n",
      "Processing Record 15 of Set 4 | trapani\n",
      "City not found. Skipping...\n",
      "Processing Record 16 of Set 4 | hilo\n",
      "Processing Record 17 of Set 4 | port alfred\n",
      "Processing Record 18 of Set 4 | bermejo\n",
      "Processing Record 19 of Set 4 | soke\n",
      "Processing Record 20 of Set 4 | myingyan\n",
      "Processing Record 21 of Set 4 | los llanos de aridane\n",
      "Processing Record 22 of Set 4 | yaan\n",
      "Processing Record 23 of Set 4 | ketchikan\n",
      "Processing Record 24 of Set 4 | calvinia\n",
      "Processing Record 25 of Set 4 | safford\n",
      "Processing Record 26 of Set 4 | caronport\n",
      "Processing Record 27 of Set 4 | nome\n",
      "Processing Record 28 of Set 4 | viedma\n",
      "City not found. Skipping...\n",
      "Processing Record 29 of Set 4 | gujar khan\n",
      "Processing Record 30 of Set 4 | monywa\n",
      "Processing Record 31 of Set 4 | thompson\n",
      "Processing Record 32 of Set 4 | tiksi\n",
      "Processing Record 33 of Set 4 | rotenburg\n",
      "Processing Record 34 of Set 4 | tanggu\n",
      "Processing Record 35 of Set 4 | eichenzell\n",
      "Processing Record 36 of Set 4 | nigde\n",
      "Processing Record 37 of Set 4 | sao gabriel da cachoeira\n",
      "Processing Record 38 of Set 4 | saint simons\n",
      "Processing Record 39 of Set 4 | luderitz\n",
      "City not found. Skipping...\n",
      "Processing Record 40 of Set 4 | lukovetskiy\n",
      "Processing Record 41 of Set 4 | nola\n",
      "Processing Record 42 of Set 4 | sillod\n",
      "Processing Record 43 of Set 4 | iwaki\n",
      "Processing Record 44 of Set 4 | ayan\n",
      "Processing Record 45 of Set 4 | fort walton beach\n",
      "Processing Record 46 of Set 4 | defiance\n",
      "Processing Record 47 of Set 4 | upernavik\n",
      "Processing Record 48 of Set 4 | san lawrenz\n",
      "Processing Record 49 of Set 4 | zatoka\n",
      "City not found. Skipping...\n",
      "Processing Record 1 of Set 5 | beyneu\n",
      "Processing Record 2 of Set 5 | aksha\n",
      "Processing Record 3 of Set 5 | berlevag\n",
      "Processing Record 4 of Set 5 | zhigansk\n",
      "Processing Record 5 of Set 5 | envira\n",
      "City not found. Skipping...\n",
      "Processing Record 6 of Set 5 | kaitangata\n",
      "Processing Record 7 of Set 5 | cabedelo\n",
      "Processing Record 8 of Set 5 | necochea\n",
      "Processing Record 9 of Set 5 | imbituba\n",
      "Processing Record 10 of Set 5 | kenora\n",
      "Processing Record 11 of Set 5 | dikson\n",
      "Processing Record 12 of Set 5 | bodden town\n",
      "Processing Record 13 of Set 5 | cabo san lucas\n",
      "Processing Record 14 of Set 5 | camacha\n",
      "Processing Record 15 of Set 5 | orikhove\n",
      "Processing Record 16 of Set 5 | san quintin\n",
      "Processing Record 17 of Set 5 | puerto madero\n",
      "Processing Record 18 of Set 5 | weihai\n",
      "Processing Record 19 of Set 5 | porto novo\n",
      "Processing Record 20 of Set 5 | coari\n",
      "Processing Record 21 of Set 5 | palestine\n",
      "Processing Record 22 of Set 5 | mazatlan\n",
      "Processing Record 23 of Set 5 | sidi ali\n",
      "Processing Record 24 of Set 5 | am timan\n",
      "Processing Record 25 of Set 5 | te anau\n",
      "City not found. Skipping...\n",
      "City not found. Skipping...\n",
      "Processing Record 26 of Set 5 | maldonado\n",
      "Processing Record 27 of Set 5 | ancud\n",
      "Processing Record 28 of Set 5 | floro\n",
      "Processing Record 29 of Set 5 | ibra\n",
      "Processing Record 30 of Set 5 | torbay\n",
      "Processing Record 31 of Set 5 | rajur\n",
      "Processing Record 32 of Set 5 | valparaiso\n",
      "Processing Record 33 of Set 5 | ribeira grande\n",
      "Processing Record 34 of Set 5 | saint-augustin\n",
      "Processing Record 35 of Set 5 | pangnirtung\n",
      "Processing Record 36 of Set 5 | menongue\n",
      "Processing Record 37 of Set 5 | riyadh\n",
      "City not found. Skipping...\n",
      "Processing Record 38 of Set 5 | omboue\n",
      "Processing Record 39 of Set 5 | bathsheba\n",
      "Processing Record 40 of Set 5 | arlit\n",
      "Processing Record 41 of Set 5 | minab\n",
      "City not found. Skipping...\n",
      "Processing Record 42 of Set 5 | rosetta\n",
      "Processing Record 43 of Set 5 | oksfjord\n",
      "Processing Record 44 of Set 5 | flinders\n",
      "Processing Record 45 of Set 5 | sabang\n",
      "Processing Record 46 of Set 5 | ahuimanu\n",
      "Processing Record 47 of Set 5 | bismarck\n",
      "Processing Record 48 of Set 5 | sorland\n",
      "Processing Record 49 of Set 5 | grand gaube\n",
      "Processing Record 1 of Set 6 | okahandja\n",
      "Processing Record 2 of Set 6 | mount gambier\n",
      "City not found. Skipping...\n",
      "Processing Record 3 of Set 6 | black river\n",
      "Processing Record 4 of Set 6 | newport\n",
      "Processing Record 5 of Set 6 | mizan teferi\n",
      "City not found. Skipping...\n",
      "Processing Record 6 of Set 6 | indramayu\n",
      "Processing Record 7 of Set 6 | ponta do sol\n",
      "Processing Record 8 of Set 6 | sakakah\n",
      "Processing Record 9 of Set 6 | tessalit\n",
      "Processing Record 10 of Set 6 | krasnoselkup\n",
      "Processing Record 11 of Set 6 | porto santo\n",
      "Processing Record 12 of Set 6 | katsuura\n",
      "City not found. Skipping...\n",
      "Processing Record 13 of Set 6 | ascension\n",
      "Processing Record 14 of Set 6 | karratha\n",
      "Processing Record 15 of Set 6 | doha\n",
      "Processing Record 16 of Set 6 | tateyama\n",
      "Processing Record 17 of Set 6 | vallenar\n",
      "Processing Record 18 of Set 6 | tabou\n",
      "Processing Record 19 of Set 6 | leh\n",
      "Processing Record 20 of Set 6 | mahebourg\n",
      "Processing Record 21 of Set 6 | zhuanghe\n",
      "Processing Record 22 of Set 6 | hofn\n",
      "Processing Record 23 of Set 6 | kitzbuhel\n",
      "Processing Record 24 of Set 6 | sorsk\n",
      "Processing Record 25 of Set 6 | santa rosa\n",
      "Processing Record 26 of Set 6 | goure\n",
      "Processing Record 27 of Set 6 | kismayo\n",
      "Processing Record 28 of Set 6 | nemuro\n",
      "Processing Record 29 of Set 6 | san cristobal\n",
      "Processing Record 30 of Set 6 | acapulco\n",
      "Processing Record 31 of Set 6 | salisbury\n",
      "Processing Record 32 of Set 6 | muborak\n",
      "City not found. Skipping...\n",
      "City not found. Skipping...\n",
      "Processing Record 33 of Set 6 | hobyo\n",
      "Processing Record 34 of Set 6 | plettenberg bay\n",
      "Processing Record 35 of Set 6 | sungaipenuh\n",
      "Processing Record 36 of Set 6 | kununurra\n",
      "Processing Record 37 of Set 6 | sitka\n",
      "Processing Record 38 of Set 6 | ostrovnoy\n",
      "Processing Record 39 of Set 6 | fortuna\n",
      "Processing Record 40 of Set 6 | shiozawa\n",
      "Processing Record 41 of Set 6 | sioux lookout\n",
      "Processing Record 42 of Set 6 | havre-saint-pierre\n",
      "Processing Record 43 of Set 6 | huanan\n",
      "Processing Record 44 of Set 6 | sarospatak\n",
      "Processing Record 45 of Set 6 | acari\n",
      "Processing Record 46 of Set 6 | mahanoro\n",
      "Processing Record 47 of Set 6 | gravdal\n",
      "City not found. Skipping...\n",
      "Processing Record 48 of Set 6 | shenjiamen\n",
      "Processing Record 49 of Set 6 | saskylakh\n",
      "Processing Record 1 of Set 7 | hambantota\n",
      "Processing Record 2 of Set 7 | gotsu\n",
      "Processing Record 3 of Set 7 | majene\n",
      "Processing Record 4 of Set 7 | tiarei\n",
      "Processing Record 5 of Set 7 | suntar\n",
      "Processing Record 6 of Set 7 | fort nelson\n",
      "Processing Record 7 of Set 7 | amapa\n",
      "Processing Record 8 of Set 7 | bantry\n",
      "City not found. Skipping...\n",
      "Processing Record 9 of Set 7 | pangai\n",
      "Processing Record 10 of Set 7 | strezhevoy\n",
      "Processing Record 11 of Set 7 | kamiiso\n",
      "Processing Record 12 of Set 7 | potosi\n",
      "Processing Record 13 of Set 7 | westport\n",
      "Processing Record 14 of Set 7 | gbadolite\n",
      "City not found. Skipping...\n",
      "Processing Record 15 of Set 7 | birao\n",
      "Processing Record 16 of Set 7 | anadyr\n",
      "Processing Record 17 of Set 7 | korla\n",
      "Processing Record 18 of Set 7 | jipijapa\n",
      "Processing Record 19 of Set 7 | vestmannaeyjar\n",
      "Processing Record 20 of Set 7 | evensk\n",
      "Processing Record 21 of Set 7 | hasaki\n",
      "Processing Record 22 of Set 7 | cody\n",
      "Processing Record 23 of Set 7 | dwarka\n",
      "City not found. Skipping...\n",
      "Processing Record 24 of Set 7 | tanout\n",
      "City not found. Skipping...\n",
      "Processing Record 25 of Set 7 | xapuri\n",
      "Processing Record 26 of Set 7 | zabol\n",
      "City not found. Skipping...\n",
      "Processing Record 27 of Set 7 | aranda de duero\n",
      "City not found. Skipping...\n",
      "Processing Record 28 of Set 7 | brokopondo\n",
      "Processing Record 29 of Set 7 | gizo\n",
      "Processing Record 30 of Set 7 | alcains\n",
      "Processing Record 31 of Set 7 | krasnyy chikoy\n",
      "Processing Record 32 of Set 7 | sanmenxia\n",
      "Processing Record 33 of Set 7 | nisia floresta\n",
      "Processing Record 34 of Set 7 | ormara\n",
      "Processing Record 35 of Set 7 | vanimo\n",
      "Processing Record 36 of Set 7 | tiznit\n",
      "Processing Record 37 of Set 7 | byron bay\n",
      "Processing Record 38 of Set 7 | akyab\n",
      "Processing Record 39 of Set 7 | acarau\n",
      "Processing Record 40 of Set 7 | audru\n",
      "Processing Record 41 of Set 7 | ambulu\n",
      "Processing Record 42 of Set 7 | chegdomyn\n",
      "Processing Record 43 of Set 7 | vardo\n",
      "Processing Record 44 of Set 7 | odoyev\n",
      "Processing Record 45 of Set 7 | artyom\n",
      "Processing Record 46 of Set 7 | portsmouth\n",
      "Processing Record 47 of Set 7 | port hardy\n",
      "Processing Record 48 of Set 7 | basco\n",
      "Processing Record 49 of Set 7 | turbat\n",
      "Processing Record 1 of Set 8 | ilulissat\n",
      "Processing Record 2 of Set 8 | nyrob\n",
      "Processing Record 3 of Set 8 | poum\n",
      "Processing Record 4 of Set 8 | port blair\n",
      "City not found. Skipping...\n",
      "Processing Record 5 of Set 8 | san jose\n",
      "Processing Record 6 of Set 8 | katobu\n",
      "Processing Record 7 of Set 8 | khasan\n",
      "Processing Record 8 of Set 8 | yanaul\n",
      "Processing Record 9 of Set 8 | georgetown\n",
      "Processing Record 10 of Set 8 | raudeberg\n",
      "Processing Record 11 of Set 8 | lorengau\n",
      "Processing Record 12 of Set 8 | mahon\n",
      "Processing Record 13 of Set 8 | kapustin yar\n",
      "Processing Record 14 of Set 8 | estelle\n",
      "Processing Record 15 of Set 8 | hirara\n",
      "Processing Record 16 of Set 8 | katangli\n",
      "Processing Record 17 of Set 8 | pitimbu\n",
      "Processing Record 18 of Set 8 | nizhnyaya omka\n",
      "Processing Record 19 of Set 8 | morondava\n",
      "Processing Record 20 of Set 8 | kavieng\n",
      "Processing Record 21 of Set 8 | salalah\n",
      "Processing Record 22 of Set 8 | saint george\n",
      "Processing Record 23 of Set 8 | dali\n",
      "Processing Record 24 of Set 8 | bahua\n",
      "Processing Record 25 of Set 8 | salamiyah\n",
      "Processing Record 26 of Set 8 | jhalida\n",
      "Processing Record 27 of Set 8 | igrim\n",
      "Processing Record 28 of Set 8 | leeton\n",
      "Processing Record 29 of Set 8 | abu samrah\n"
     ]
    },
    {
     "name": "stdout",
     "output_type": "stream",
     "text": [
      "Processing Record 30 of Set 8 | namikupa\n",
      "Processing Record 31 of Set 8 | conde\n",
      "Processing Record 32 of Set 8 | geraldton\n",
      "Processing Record 33 of Set 8 | baker city\n",
      "Processing Record 34 of Set 8 | padilla\n",
      "Processing Record 35 of Set 8 | mattru\n",
      "Processing Record 36 of Set 8 | hisai\n",
      "Processing Record 37 of Set 8 | hede\n",
      "Processing Record 38 of Set 8 | maragogi\n",
      "Processing Record 39 of Set 8 | kahului\n",
      "Processing Record 40 of Set 8 | cerrito\n",
      "Processing Record 41 of Set 8 | sochi\n",
      "Processing Record 42 of Set 8 | mayor pablo lagerenza\n",
      "Processing Record 43 of Set 8 | kangasala\n",
      "Processing Record 44 of Set 8 | bilibino\n",
      "Processing Record 45 of Set 8 | gossaigaon\n",
      "Processing Record 46 of Set 8 | el tular\n",
      "Processing Record 47 of Set 8 | misratah\n",
      "Processing Record 48 of Set 8 | aitape\n",
      "Processing Record 49 of Set 8 | coahuayana\n",
      "Processing Record 1 of Set 9 | saint anthony\n",
      "Processing Record 2 of Set 9 | rabo de peixe\n",
      "Processing Record 3 of Set 9 | komsomolskiy\n",
      "Processing Record 4 of Set 9 | marsh harbour\n",
      "Processing Record 5 of Set 9 | novopokrovka\n",
      "Processing Record 6 of Set 9 | sampit\n",
      "Processing Record 7 of Set 9 | margate\n",
      "Processing Record 8 of Set 9 | tezu\n",
      "Processing Record 9 of Set 9 | ovalle\n",
      "Processing Record 10 of Set 9 | toccoa\n",
      "City not found. Skipping...\n",
      "Processing Record 11 of Set 9 | franca\n",
      "Processing Record 12 of Set 9 | lagoa\n",
      "City not found. Skipping...\n",
      "Processing Record 13 of Set 9 | santa marta\n",
      "Processing Record 14 of Set 9 | petropavlovsk-kamchatskiy\n",
      "Processing Record 15 of Set 9 | kazerun\n",
      "City not found. Skipping...\n",
      "Processing Record 16 of Set 9 | kudahuvadhoo\n",
      "Processing Record 17 of Set 9 | bakel\n",
      "Processing Record 18 of Set 9 | kindersley\n",
      "Processing Record 19 of Set 9 | shadrinsk\n",
      "Processing Record 20 of Set 9 | gualeguay\n",
      "Processing Record 21 of Set 9 | eidsvag\n",
      "Processing Record 22 of Set 9 | araouane\n",
      "Processing Record 23 of Set 9 | pacatuba\n",
      "Processing Record 24 of Set 9 | lichuan\n",
      "Processing Record 25 of Set 9 | nastola\n",
      "Processing Record 26 of Set 9 | padang\n",
      "Processing Record 27 of Set 9 | manavalakurichi\n",
      "City not found. Skipping...\n",
      "Processing Record 28 of Set 9 | vostok\n",
      "Processing Record 29 of Set 9 | nabire\n",
      "Processing Record 30 of Set 9 | leova\n",
      "Processing Record 31 of Set 9 | wanning\n",
      "City not found. Skipping...\n",
      "Processing Record 32 of Set 9 | asau\n",
      "Processing Record 33 of Set 9 | namwala\n",
      "Processing Record 34 of Set 9 | portland\n",
      "Processing Record 35 of Set 9 | cidreira\n",
      "City not found. Skipping...\n",
      "Processing Record 36 of Set 9 | labuhan\n",
      "Processing Record 37 of Set 9 | awbari\n",
      "Processing Record 38 of Set 9 | mezhdurechensk\n",
      "Processing Record 39 of Set 9 | saint-joseph\n",
      "Processing Record 40 of Set 9 | honiara\n",
      "Processing Record 41 of Set 9 | inta\n",
      "Processing Record 42 of Set 9 | zvolen\n",
      "Processing Record 43 of Set 9 | lasa\n",
      "Processing Record 44 of Set 9 | puerto narino\n",
      "Processing Record 45 of Set 9 | broken hill\n",
      "Processing Record 46 of Set 9 | sabha\n",
      "Processing Record 47 of Set 9 | batagay\n",
      "Processing Record 48 of Set 9 | aquiraz\n",
      "Processing Record 49 of Set 9 | arman\n",
      "Processing Record 1 of Set 10 | aboisso\n",
      "Processing Record 2 of Set 10 | dir\n",
      "Processing Record 3 of Set 10 | komsomolets\n",
      "Processing Record 4 of Set 10 | meadow lake\n",
      "Processing Record 5 of Set 10 | zhangye\n",
      "Processing Record 6 of Set 10 | lask\n",
      "Processing Record 7 of Set 10 | santa cruz\n",
      "Processing Record 8 of Set 10 | yenagoa\n",
      "Processing Record 9 of Set 10 | oistins\n",
      "Processing Record 10 of Set 10 | chapadinha\n",
      "Processing Record 11 of Set 10 | kirakira\n",
      "Processing Record 12 of Set 10 | longyearbyen\n",
      "City not found. Skipping...\n",
      "Processing Record 13 of Set 10 | dunedin\n",
      "Processing Record 14 of Set 10 | gorele\n",
      "Processing Record 15 of Set 10 | verkhoyansk\n",
      "City not found. Skipping...\n",
      "Processing Record 16 of Set 10 | banda aceh\n",
      "Processing Record 17 of Set 10 | ouidah\n",
      "Processing Record 18 of Set 10 | kerema\n",
      "Processing Record 19 of Set 10 | new iberia\n",
      "Processing Record 20 of Set 10 | bay roberts\n",
      "Processing Record 21 of Set 10 | qaqortoq\n",
      "Processing Record 22 of Set 10 | lata\n",
      "Processing Record 23 of Set 10 | ambilobe\n",
      "Processing Record 24 of Set 10 | sinnamary\n",
      "Processing Record 25 of Set 10 | victoria\n",
      "Processing Record 26 of Set 10 | sao joao da barra\n",
      "Processing Record 27 of Set 10 | san jose de guanipa\n",
      "Processing Record 28 of Set 10 | talcahuano\n",
      "Processing Record 29 of Set 10 | bud\n",
      "Processing Record 30 of Set 10 | enshi\n",
      "Processing Record 31 of Set 10 | demerval lobao\n",
      "Processing Record 32 of Set 10 | buraydah\n",
      "Processing Record 33 of Set 10 | phalombe\n",
      "Processing Record 34 of Set 10 | planeta rica\n",
      "Processing Record 35 of Set 10 | nanortalik\n",
      "Processing Record 36 of Set 10 | lincoln\n",
      "Processing Record 37 of Set 10 | vytegra\n",
      "Processing Record 38 of Set 10 | kinkala\n",
      "City not found. Skipping...\n",
      "Processing Record 39 of Set 10 | weatherford\n",
      "Processing Record 40 of Set 10 | herat\n",
      "Processing Record 41 of Set 10 | khudumelapye\n",
      "Processing Record 42 of Set 10 | joshimath\n",
      "Processing Record 43 of Set 10 | udagamandalam\n",
      "Processing Record 44 of Set 10 | gouyave\n",
      "Processing Record 45 of Set 10 | udalguri\n",
      "Processing Record 46 of Set 10 | missoula\n",
      "Processing Record 47 of Set 10 | namibe\n",
      "Processing Record 48 of Set 10 | lluta\n",
      "Processing Record 49 of Set 10 | adrar\n",
      "Processing Record 1 of Set 11 | tilichiki\n",
      "Processing Record 2 of Set 11 | puerto baquerizo moreno\n",
      "City not found. Skipping...\n",
      "Processing Record 3 of Set 11 | karera\n",
      "Processing Record 4 of Set 11 | dicabisagan\n",
      "Processing Record 5 of Set 11 | libertador general san martin\n",
      "Processing Record 6 of Set 11 | kharp\n",
      "Processing Record 7 of Set 11 | egvekinot\n",
      "Processing Record 8 of Set 11 | kalmunai\n",
      "Processing Record 9 of Set 11 | lanark\n",
      "Processing Record 10 of Set 11 | richards bay\n",
      "Processing Record 11 of Set 11 | lichinga\n",
      "Processing Record 12 of Set 11 | nhulunbuy\n",
      "Processing Record 13 of Set 11 | muriae\n",
      "Processing Record 14 of Set 11 | zhezkazgan\n",
      "Processing Record 15 of Set 11 | henties bay\n",
      "Processing Record 16 of Set 11 | rockhampton\n",
      "Processing Record 17 of Set 11 | pell city\n",
      "Processing Record 18 of Set 11 | gidole\n",
      "Processing Record 19 of Set 11 | salvador\n",
      "Processing Record 20 of Set 11 | gondanglegi\n",
      "Processing Record 21 of Set 11 | tecpan\n",
      "Processing Record 22 of Set 11 | pontecorvo\n",
      "Processing Record 23 of Set 11 | vila franca do campo\n",
      "Processing Record 24 of Set 11 | carlyle\n",
      "Processing Record 25 of Set 11 | shediac\n",
      "Processing Record 26 of Set 11 | okha\n",
      "Processing Record 27 of Set 11 | laguna\n",
      "Processing Record 28 of Set 11 | mirnyy\n",
      "Processing Record 29 of Set 11 | porecatu\n",
      "Processing Record 30 of Set 11 | choma\n",
      "Processing Record 31 of Set 11 | grasse\n",
      "City not found. Skipping...\n",
      "Processing Record 32 of Set 11 | leshukonskoye\n",
      "Processing Record 33 of Set 11 | caxito\n",
      "Processing Record 34 of Set 11 | pitkyaranta\n",
      "Processing Record 35 of Set 11 | port macquarie\n",
      "Processing Record 36 of Set 11 | verkhnyaya inta\n",
      "Processing Record 37 of Set 11 | gamba\n",
      "Processing Record 38 of Set 11 | mocuba\n",
      "Processing Record 39 of Set 11 | tarata\n",
      "Processing Record 40 of Set 11 | tarrafal\n",
      "Processing Record 41 of Set 11 | guarapari\n",
      "Processing Record 42 of Set 11 | tweed\n",
      "Processing Record 43 of Set 11 | faanui\n",
      "Processing Record 44 of Set 11 | kabare\n",
      "Processing Record 45 of Set 11 | ouargaye\n",
      "Processing Record 46 of Set 11 | srednekolymsk\n",
      "Processing Record 47 of Set 11 | champerico\n",
      "Processing Record 48 of Set 11 | tsiroanomandidy\n",
      "Processing Record 49 of Set 11 | sarkand\n",
      "Processing Record 1 of Set 12 | prado\n",
      "Processing Record 2 of Set 12 | san felipe\n",
      "Processing Record 3 of Set 12 | husavik\n",
      "Processing Record 4 of Set 12 | la rioja\n",
      "Processing Record 5 of Set 12 | kandrian\n",
      "Processing Record 6 of Set 12 | albanel\n",
      "Processing Record 7 of Set 12 | kavaratti\n",
      "Processing Record 8 of Set 12 | smithers\n",
      "Processing Record 9 of Set 12 | trairi\n",
      "Processing Record 10 of Set 12 | curup\n",
      "Processing Record 11 of Set 12 | buala\n",
      "Processing Record 12 of Set 12 | la ronge\n",
      "Processing Record 13 of Set 12 | conceicao do araguaia\n",
      "Processing Record 14 of Set 12 | ukiah\n",
      "Processing Record 15 of Set 12 | padampur\n",
      "Processing Record 16 of Set 12 | panama city\n",
      "Processing Record 17 of Set 12 | nijar\n",
      "Processing Record 18 of Set 12 | ternate\n",
      "Processing Record 19 of Set 12 | luganville\n",
      "Processing Record 20 of Set 12 | waipawa\n",
      "Processing Record 21 of Set 12 | waingapu\n",
      "Processing Record 22 of Set 12 | terrace bay\n",
      "Processing Record 23 of Set 12 | tura\n",
      "Processing Record 24 of Set 12 | clyde river\n",
      "Processing Record 25 of Set 12 | noumea\n",
      "Processing Record 26 of Set 12 | takoradi\n",
      "Processing Record 27 of Set 12 | mercedes\n",
      "Processing Record 28 of Set 12 | umm kaddadah\n",
      "Processing Record 29 of Set 12 | corinto\n",
      "Processing Record 30 of Set 12 | teya\n",
      "Processing Record 31 of Set 12 | namatanai\n",
      "-----------------------------\n",
      "Data Retrieval Complete\n",
      "-----------------------------\n"
     ]
    }
   ],
   "source": [
    "\n",
    "# Create empty lists\n",
    "city_name = []\n",
    "lat = []\n",
    "lng= []\n",
    "max_temp = []\n",
    "humidity = []\n",
    "cloudiness = []\n",
    "windspeed = []\n",
    "country = []\n",
    "date = []\n",
    "counter = 0\n",
    "set_num = 1\n",
    "\n",
    "print(\"Beginning Data Retrieval\")\n",
    "print(\"-----------------------------\")\n",
    "\n",
    "# for loop cities in query_url with try and except\n",
    "for city in cities:\n",
    "    try:\n",
    "        response = requests.get(query_url + city).json()\n",
    "        lat.append(response['coord']['lat'])\n",
    "        lng.append(response['coord']['lon'])\n",
    "        max_temp.append(response['main']['temp_max'])\n",
    "        humidity.append(response['main']['humidity'])\n",
    "        cloudiness.append(response['clouds']['all'])\n",
    "        windspeed.append(response['wind']['speed'])\n",
    "        country.append(response['sys']['country'])\n",
    "        date.append(response['dt'])\n",
    "        city_name.append(city)\n",
    "        if counter>=49:\n",
    "            counter=1\n",
    "            set_num+=1\n",
    "            \n",
    "        else:\n",
    "            counter+=1\n",
    "            \n",
    "        print(f\"Processing Record {counter} of Set {set_num} | {city}\")\n",
    "    except:\n",
    "\n",
    "        print(\"City not found. Skipping...\")\n",
    "print(\"-----------------------------\")        \n",
    "print(\"Data Retrieval Complete\")\n",
    "print(\"-----------------------------\")\n",
    "    "
   ]
  },
  {
   "cell_type": "code",
   "execution_count": 6,
   "metadata": {},
   "outputs": [
    {
     "data": {
      "text/plain": [
       "570"
      ]
     },
     "execution_count": 6,
     "metadata": {},
     "output_type": "execute_result"
    }
   ],
   "source": [
    "len(city_name)"
   ]
  },
  {
   "cell_type": "markdown",
   "metadata": {},
   "source": [
    "### Convert Raw Data to DataFrame\n",
    "* Export the city data into a .csv.\n",
    "* Display the DataFrame"
   ]
  },
  {
   "cell_type": "code",
   "execution_count": 7,
   "metadata": {},
   "outputs": [
    {
     "data": {
      "text/html": [
       "<div>\n",
       "<style scoped>\n",
       "    .dataframe tbody tr th:only-of-type {\n",
       "        vertical-align: middle;\n",
       "    }\n",
       "\n",
       "    .dataframe tbody tr th {\n",
       "        vertical-align: top;\n",
       "    }\n",
       "\n",
       "    .dataframe thead th {\n",
       "        text-align: right;\n",
       "    }\n",
       "</style>\n",
       "<table border=\"1\" class=\"dataframe\">\n",
       "  <thead>\n",
       "    <tr style=\"text-align: right;\">\n",
       "      <th></th>\n",
       "      <th>City Name</th>\n",
       "      <th>Latitude</th>\n",
       "      <th>Longitude</th>\n",
       "      <th>Max Temp</th>\n",
       "      <th>Humidity</th>\n",
       "      <th>Cloudiness</th>\n",
       "      <th>Wind Speed</th>\n",
       "      <th>Country</th>\n",
       "      <th>Date</th>\n",
       "    </tr>\n",
       "  </thead>\n",
       "  <tbody>\n",
       "    <tr>\n",
       "      <th>0</th>\n",
       "      <td>castro</td>\n",
       "      <td>-24.79</td>\n",
       "      <td>-50.01</td>\n",
       "      <td>66.22</td>\n",
       "      <td>59</td>\n",
       "      <td>49</td>\n",
       "      <td>8.59</td>\n",
       "      <td>BR</td>\n",
       "      <td>1604257475</td>\n",
       "    </tr>\n",
       "    <tr>\n",
       "      <th>1</th>\n",
       "      <td>tuktoyaktuk</td>\n",
       "      <td>69.45</td>\n",
       "      <td>-133.04</td>\n",
       "      <td>6.80</td>\n",
       "      <td>92</td>\n",
       "      <td>75</td>\n",
       "      <td>10.29</td>\n",
       "      <td>CA</td>\n",
       "      <td>1604257505</td>\n",
       "    </tr>\n",
       "    <tr>\n",
       "      <th>2</th>\n",
       "      <td>springdale</td>\n",
       "      <td>36.19</td>\n",
       "      <td>-94.13</td>\n",
       "      <td>57.99</td>\n",
       "      <td>30</td>\n",
       "      <td>1</td>\n",
       "      <td>8.05</td>\n",
       "      <td>US</td>\n",
       "      <td>1604257506</td>\n",
       "    </tr>\n",
       "    <tr>\n",
       "      <th>3</th>\n",
       "      <td>ahipara</td>\n",
       "      <td>-35.17</td>\n",
       "      <td>173.17</td>\n",
       "      <td>62.87</td>\n",
       "      <td>89</td>\n",
       "      <td>100</td>\n",
       "      <td>6.53</td>\n",
       "      <td>NZ</td>\n",
       "      <td>1604257478</td>\n",
       "    </tr>\n",
       "    <tr>\n",
       "      <th>4</th>\n",
       "      <td>ushuaia</td>\n",
       "      <td>-54.80</td>\n",
       "      <td>-68.30</td>\n",
       "      <td>57.20</td>\n",
       "      <td>58</td>\n",
       "      <td>75</td>\n",
       "      <td>8.05</td>\n",
       "      <td>AR</td>\n",
       "      <td>1604257452</td>\n",
       "    </tr>\n",
       "    <tr>\n",
       "      <th>...</th>\n",
       "      <td>...</td>\n",
       "      <td>...</td>\n",
       "      <td>...</td>\n",
       "      <td>...</td>\n",
       "      <td>...</td>\n",
       "      <td>...</td>\n",
       "      <td>...</td>\n",
       "      <td>...</td>\n",
       "      <td>...</td>\n",
       "    </tr>\n",
       "    <tr>\n",
       "      <th>565</th>\n",
       "      <td>mercedes</td>\n",
       "      <td>-34.65</td>\n",
       "      <td>-59.43</td>\n",
       "      <td>79.00</td>\n",
       "      <td>41</td>\n",
       "      <td>0</td>\n",
       "      <td>3.00</td>\n",
       "      <td>AR</td>\n",
       "      <td>1604257648</td>\n",
       "    </tr>\n",
       "    <tr>\n",
       "      <th>566</th>\n",
       "      <td>umm kaddadah</td>\n",
       "      <td>13.60</td>\n",
       "      <td>26.69</td>\n",
       "      <td>86.72</td>\n",
       "      <td>18</td>\n",
       "      <td>0</td>\n",
       "      <td>14.76</td>\n",
       "      <td>SD</td>\n",
       "      <td>1604257537</td>\n",
       "    </tr>\n",
       "    <tr>\n",
       "      <th>567</th>\n",
       "      <td>corinto</td>\n",
       "      <td>37.94</td>\n",
       "      <td>22.96</td>\n",
       "      <td>64.00</td>\n",
       "      <td>58</td>\n",
       "      <td>10</td>\n",
       "      <td>1.01</td>\n",
       "      <td>GR</td>\n",
       "      <td>1604257501</td>\n",
       "    </tr>\n",
       "    <tr>\n",
       "      <th>568</th>\n",
       "      <td>teya</td>\n",
       "      <td>60.38</td>\n",
       "      <td>92.63</td>\n",
       "      <td>35.20</td>\n",
       "      <td>90</td>\n",
       "      <td>100</td>\n",
       "      <td>11.92</td>\n",
       "      <td>RU</td>\n",
       "      <td>1604257649</td>\n",
       "    </tr>\n",
       "    <tr>\n",
       "      <th>569</th>\n",
       "      <td>namatanai</td>\n",
       "      <td>-3.67</td>\n",
       "      <td>152.43</td>\n",
       "      <td>80.08</td>\n",
       "      <td>81</td>\n",
       "      <td>100</td>\n",
       "      <td>5.41</td>\n",
       "      <td>PG</td>\n",
       "      <td>1604257505</td>\n",
       "    </tr>\n",
       "  </tbody>\n",
       "</table>\n",
       "<p>570 rows × 9 columns</p>\n",
       "</div>"
      ],
      "text/plain": [
       "        City Name  Latitude  Longitude  Max Temp  Humidity  Cloudiness  \\\n",
       "0          castro    -24.79     -50.01     66.22        59          49   \n",
       "1     tuktoyaktuk     69.45    -133.04      6.80        92          75   \n",
       "2      springdale     36.19     -94.13     57.99        30           1   \n",
       "3         ahipara    -35.17     173.17     62.87        89         100   \n",
       "4         ushuaia    -54.80     -68.30     57.20        58          75   \n",
       "..            ...       ...        ...       ...       ...         ...   \n",
       "565      mercedes    -34.65     -59.43     79.00        41           0   \n",
       "566  umm kaddadah     13.60      26.69     86.72        18           0   \n",
       "567       corinto     37.94      22.96     64.00        58          10   \n",
       "568          teya     60.38      92.63     35.20        90         100   \n",
       "569     namatanai     -3.67     152.43     80.08        81         100   \n",
       "\n",
       "     Wind Speed Country        Date  \n",
       "0          8.59      BR  1604257475  \n",
       "1         10.29      CA  1604257505  \n",
       "2          8.05      US  1604257506  \n",
       "3          6.53      NZ  1604257478  \n",
       "4          8.05      AR  1604257452  \n",
       "..          ...     ...         ...  \n",
       "565        3.00      AR  1604257648  \n",
       "566       14.76      SD  1604257537  \n",
       "567        1.01      GR  1604257501  \n",
       "568       11.92      RU  1604257649  \n",
       "569        5.41      PG  1604257505  \n",
       "\n",
       "[570 rows x 9 columns]"
      ]
     },
     "execution_count": 7,
     "metadata": {},
     "output_type": "execute_result"
    }
   ],
   "source": [
    "# Create dictionaries for variables in API call above\n",
    "cities_list = {\n",
    "    \"City Name\": city_name,\n",
    "    \"Latitude\": lat,\n",
    "    \"Longitude\": lng,\n",
    "    \"Max Temp\": max_temp,\n",
    "    \"Humidity\": humidity,\n",
    "    \"Cloudiness\": cloudiness,\n",
    "    \"Wind Speed\": windspeed,\n",
    "    \"Country\": country,\n",
    "    \"Date\": date\n",
    "}\n",
    "\n",
    "cities_df = pd.DataFrame(cities_list)\n",
    "cities_df.to_csv(r\"output_data/cities.csv\", index = False)\n",
    "cities_df"
   ]
  },
  {
   "cell_type": "code",
   "execution_count": null,
   "metadata": {},
   "outputs": [],
   "source": []
  },
  {
   "cell_type": "markdown",
   "metadata": {},
   "source": [
    "## Inspect the data and remove the cities where the humidity > 100%.\n",
    "----\n",
    "Skip this step if there are no cities that have humidity > 100%. "
   ]
  },
  {
   "cell_type": "code",
   "execution_count": 8,
   "metadata": {},
   "outputs": [
    {
     "data": {
      "text/html": [
       "<div>\n",
       "<style scoped>\n",
       "    .dataframe tbody tr th:only-of-type {\n",
       "        vertical-align: middle;\n",
       "    }\n",
       "\n",
       "    .dataframe tbody tr th {\n",
       "        vertical-align: top;\n",
       "    }\n",
       "\n",
       "    .dataframe thead th {\n",
       "        text-align: right;\n",
       "    }\n",
       "</style>\n",
       "<table border=\"1\" class=\"dataframe\">\n",
       "  <thead>\n",
       "    <tr style=\"text-align: right;\">\n",
       "      <th></th>\n",
       "      <th>City Name</th>\n",
       "      <th>Latitude</th>\n",
       "      <th>Longitude</th>\n",
       "      <th>Max Temp</th>\n",
       "      <th>Humidity</th>\n",
       "      <th>Cloudiness</th>\n",
       "      <th>Wind Speed</th>\n",
       "      <th>Country</th>\n",
       "      <th>Date</th>\n",
       "    </tr>\n",
       "  </thead>\n",
       "  <tbody>\n",
       "  </tbody>\n",
       "</table>\n",
       "</div>"
      ],
      "text/plain": [
       "Empty DataFrame\n",
       "Columns: [City Name, Latitude, Longitude, Max Temp, Humidity, Cloudiness, Wind Speed, Country, Date]\n",
       "Index: []"
      ]
     },
     "execution_count": 8,
     "metadata": {},
     "output_type": "execute_result"
    }
   ],
   "source": [
    "cities_df.loc[cities_df['Humidity'] >100]"
   ]
  },
  {
   "cell_type": "code",
   "execution_count": 9,
   "metadata": {},
   "outputs": [],
   "source": [
    "#  Get the indices of cities that have humidity over 100%.\n",
    "\n"
   ]
  },
  {
   "cell_type": "code",
   "execution_count": 10,
   "metadata": {},
   "outputs": [],
   "source": [
    "# Make a new DataFrame equal to the city data to drop all humidity outliers by index.\n",
    "# Passing \"inplace=False\" will make a copy of the city_data DataFrame, which we call \"clean_city_data\".\n"
   ]
  },
  {
   "cell_type": "code",
   "execution_count": null,
   "metadata": {},
   "outputs": [],
   "source": [
    "\n"
   ]
  },
  {
   "cell_type": "markdown",
   "metadata": {},
   "source": [
    "## Plotting the Data\n",
    "* Use proper labeling of the plots using plot titles (including date of analysis) and axes labels.\n",
    "* Save the plotted figures as .pngs."
   ]
  },
  {
   "cell_type": "markdown",
   "metadata": {},
   "source": [
    "## Latitude vs. Temperature Plot"
   ]
  },
  {
   "cell_type": "code",
   "execution_count": 59,
   "metadata": {
    "scrolled": true
   },
   "outputs": [
    {
     "data": {
      "image/png": "[encoded data removed]",
      "text/plain": [
       "<Figure size 432x288 with 1 Axes>"
      ]
     },
     "metadata": {
      "needs_background": "light"
     },
     "output_type": "display_data"
    }
   ],
   "source": [
    "plt.scatter(cities_df[\"Latitude\"], cities_df[\"Max Temp\"])\n",
    "plt.grid()\n",
    "plt.title(\"Latitutude vs Max Temperature\")\n",
    "plt.xlabel(\"Latitude\")\n",
    "plt.ylabel(\"Max Temperature\")\n",
    "plt.savefig(\"output_data/Lat_MaxTemp.png\")\n",
    "plt.show()\n"
   ]
  },
  {
   "cell_type": "markdown",
   "metadata": {},
   "source": [
    "## Latitude vs. Humidity Plot"
   ]
  },
  {
   "cell_type": "code",
   "execution_count": 54,
   "metadata": {},
   "outputs": [
    {
     "data": {
      "image/png": "[encoded data removed]",
      "text/plain": [
       "<Figure size 432x288 with 1 Axes>"
      ]
     },
     "metadata": {
      "needs_background": "light"
     },
     "output_type": "display_data"
    }
   ],
   "source": [
    "plt.scatter(cities_df[\"Latitude\"], cities_df[\"Humidity\"])\n",
    "plt.grid()\n",
    "plt.title(\"Latitutude vs Humidity\")\n",
    "plt.xlabel(\"Latitude\")\n",
    "plt.ylabel(\"Humidity\")\n",
    "plt.savefig(\"output_data/Lat_Humidity.png\")\n",
    "plt.show()"
   ]
  },
  {
   "cell_type": "markdown",
   "metadata": {},
   "source": [
    "## Latitude vs. Cloudiness Plot"
   ]
  },
  {
   "cell_type": "code",
   "execution_count": 55,
   "metadata": {},
   "outputs": [
    {
     "data": {
      "image/png": "[encoded data removed]",
      "text/plain": [
       "<Figure size 432x288 with 1 Axes>"
      ]
     },
     "metadata": {
      "needs_background": "light"
     },
     "output_type": "display_data"
    }
   ],
   "source": [
    "plt.scatter(cities_df[\"Latitude\"], cities_df[\"Cloudiness\"])\n",
    "plt.grid()\n",
    "plt.title(\"Latitutude vs Cloudiness\")\n",
    "plt.xlabel(\"Latitude\")\n",
    "plt.ylabel(\"Cloudiness\")\n",
    "plt.savefig(\"output_data/Lat_Cloudiness.png\")\n",
    "plt.show()"
   ]
  },
  {
   "cell_type": "markdown",
   "metadata": {},
   "source": [
    "## Latitude vs. Wind Speed Plot"
   ]
  },
  {
   "cell_type": "code",
   "execution_count": 56,
   "metadata": {},
   "outputs": [
    {
     "data": {
      "image/png": "[encoded data removed]",
      "text/plain": [
       "<Figure size 432x288 with 1 Axes>"
      ]
     },
     "metadata": {
      "needs_background": "light"
     },
     "output_type": "display_data"
    }
   ],
   "source": [
    "plt.scatter(cities_df[\"Latitude\"], cities_df[\"Wind Speed\"])\n",
    "plt.grid()\n",
    "plt.title(\"Latitutude vs Wind Speed\")\n",
    "plt.xlabel(\"Latitude\")\n",
    "plt.ylabel(\"Wind Speed\")\n",
    "plt.savefig(\"output_data/Lat_Wind Speed.png\")\n",
    "plt.show()"
   ]
  },
  {
   "cell_type": "markdown",
   "metadata": {},
   "source": [
    "## Linear Regression"
   ]
  },
  {
   "cell_type": "code",
   "execution_count": 15,
   "metadata": {},
   "outputs": [],
   "source": [
    "# Create Northern and Southern Hemisphere DataFrames\n",
    "northern_hemi = cities_df.loc[cities_df[\"Latitude\"] >= 0]\n",
    "southern_hemi = cities_df.loc[cities_df[\"Latitude\"] < 0]"
   ]
  },
  {
   "cell_type": "code",
   "execution_count": 26,
   "metadata": {},
   "outputs": [],
   "source": [
    "# Define function for creating linear agression and scatter plot\n",
    "def linear_plot(x_values, y_values, y_label, coordinates):\n",
    "    print(f\"The r-squared is : {round(st.pearsonr(x_values, y_values)[0],2)}\")\n",
    "    (slope, intercept, rvalue, pvalue, stderr) = linregress(x_values, y_values)\n",
    "    regress_values = x_values * slope + intercept\n",
    "    line_eq = \"y = \" + str(round(slope,2)) + \"x + \" + str(round(intercept,2))\n",
    "    plt.scatter(x_values,y_values)\n",
    "    plt.plot(x_values,regress_values,\"r-\")\n",
    "    plt.annotate(line_eq,coordinates,fontsize=15,color=\"red\")\n",
    "    plt.xlabel('Latitude')\n",
    "    plt.ylabel(y_label)\n",
    "    plt.show()"
   ]
  },
  {
   "cell_type": "markdown",
   "metadata": {},
   "source": [
    "####  Northern Hemisphere - Max Temp vs. Latitude Linear Regression"
   ]
  },
  {
   "cell_type": "code",
   "execution_count": 62,
   "metadata": {},
   "outputs": [
    {
     "name": "stdout",
     "output_type": "stream",
     "text": [
      "The r-squared is : -0.87\n"
     ]
    },
    {
     "data": {
      "image/png": "[encoded data removed]",
      "text/plain": [
       "<Figure size 432x288 with 1 Axes>"
      ]
     },
     "metadata": {
      "needs_background": "light"
     },
     "output_type": "display_data"
    },
    {
     "data": {
      "text/plain": [
       "<Figure size 432x288 with 0 Axes>"
      ]
     },
     "metadata": {},
     "output_type": "display_data"
    }
   ],
   "source": [
    "plt.title(\"Northern Hemisphere - Max Temp vs. Latitude Linear Regression\")\n",
    "x_values = northern_hemi['Latitude']\n",
    "y_values = northern_hemi['Max Temp']\n",
    "linear_plot(x_values, y_values,\"Max Temp\",(10,5))\n",
    "plt.savefig(\"output_data/Northern Hemisphere - Max Temp vs. Latitude Linear Regression.png\")\n",
    "plt.show()"
   ]
  },
  {
   "cell_type": "markdown",
   "metadata": {},
   "source": [
    "####  Southern Hemisphere - Max Temp vs. Latitude Linear Regression"
   ]
  },
  {
   "cell_type": "code",
   "execution_count": 43,
   "metadata": {},
   "outputs": [
    {
     "name": "stdout",
     "output_type": "stream",
     "text": [
      "The r-squared is : 0.68\n"
     ]
    },
    {
     "data": {
      "image/png": "[encoded data removed]",
      "text/plain": [
       "<Figure size 432x288 with 1 Axes>"
      ]
     },
     "metadata": {
      "needs_background": "light"
     },
     "output_type": "display_data"
    },
    {
     "data": {
      "text/plain": [
       "<Figure size 432x288 with 0 Axes>"
      ]
     },
     "metadata": {},
     "output_type": "display_data"
    }
   ],
   "source": [
    "plt.title(\"Southern Hemisphere - Max Temp vs. Latitude Linear Regression\")\n",
    "x_values = southern_hemi['Latitude']\n",
    "y_values = southern_hemi['Max Temp']\n",
    "linear_plot(x_values, y_values,\"Max Temp\",(-30,45))\n",
    "plt.savefig(\"output_data/Southern Hemisphere - Max Temp vs. Latitude Linear Regression.png\")"
   ]
  },
  {
   "cell_type": "markdown",
   "metadata": {},
   "source": [
    "####  Northern Hemisphere - Humidity (%) vs. Latitude Linear Regression"
   ]
  },
  {
   "cell_type": "code",
   "execution_count": 44,
   "metadata": {},
   "outputs": [
    {
     "name": "stdout",
     "output_type": "stream",
     "text": [
      "The r-squared is : 0.35\n"
     ]
    },
    {
     "data": {
      "image/png": "[encoded data removed]",
      "text/plain": [
       "<Figure size 432x288 with 1 Axes>"
      ]
     },
     "metadata": {
      "needs_background": "light"
     },
     "output_type": "display_data"
    },
    {
     "data": {
      "text/plain": [
       "<Figure size 432x288 with 0 Axes>"
      ]
     },
     "metadata": {},
     "output_type": "display_data"
    }
   ],
   "source": [
    "plt.title(\"Northern Hemisphere - Humidity (%) vs. Latitude Linear Regression\")\n",
    "x_values = northern_hemi['Latitude']\n",
    "y_values = northern_hemi['Humidity']\n",
    "plt.savefig(\"NHemi_Humidity_Lat.png\")\n",
    "linear_plot(x_values, y_values,\"Humidity\",(47,20))\n",
    "plt.savefig(\"output_data/Northern Hemisphere - Humidity (%) vs. Latitude Linear Regression.png\")"
   ]
  },
  {
   "cell_type": "markdown",
   "metadata": {},
   "source": [
    "####  Southern Hemisphere - Humidity (%) vs. Latitude Linear Regression"
   ]
  },
  {
   "cell_type": "code",
   "execution_count": 45,
   "metadata": {
    "scrolled": true
   },
   "outputs": [
    {
     "name": "stdout",
     "output_type": "stream",
     "text": [
      "The r-squared is : 0.12\n"
     ]
    },
    {
     "data": {
      "image/png": "[encoded data removed]",
      "text/plain": [
       "<Figure size 432x288 with 1 Axes>"
      ]
     },
     "metadata": {
      "needs_background": "light"
     },
     "output_type": "display_data"
    },
    {
     "data": {
      "text/plain": [
       "<Figure size 432x288 with 0 Axes>"
      ]
     },
     "metadata": {},
     "output_type": "display_data"
    }
   ],
   "source": [
    "plt.title(\"Southern Hemisphere - Humidity (%) vs. Latitude Linear Regression\")\n",
    "x_values = southern_hemi['Latitude']\n",
    "y_values = southern_hemi['Humidity']\n",
    "linear_plot(x_values, y_values,\"Humidity\",(-30,45))\n",
    "plt.savefig(\"output_data/Southern Hemisphere - Humidity (%) vs. Latitude Linear Regression.png\")"
   ]
  },
  {
   "cell_type": "markdown",
   "metadata": {},
   "source": [
    "####  Northern Hemisphere - Cloudiness (%) vs. Latitude Linear Regression"
   ]
  },
  {
   "cell_type": "code",
   "execution_count": 46,
   "metadata": {},
   "outputs": [
    {
     "name": "stdout",
     "output_type": "stream",
     "text": [
      "The r-squared is : 0.11\n"
     ]
    },
    {
     "data": {
      "image/png": "[encoded data removed]",
      "text/plain": [
       "<Figure size 432x288 with 1 Axes>"
      ]
     },
     "metadata": {
      "needs_background": "light"
     },
     "output_type": "display_data"
    },
    {
     "data": {
      "text/plain": [
       "<Figure size 432x288 with 0 Axes>"
      ]
     },
     "metadata": {},
     "output_type": "display_data"
    }
   ],
   "source": [
    "plt.title(\"Northern Hemisphere - Cloudiness (%) vs. Latitude Linear Regression\")\n",
    "x_values = northern_hemi['Latitude']\n",
    "y_values = northern_hemi['Cloudiness']\n",
    "linear_plot(x_values, y_values,\"Cloudiness\",(47,30))\n",
    "plt.savefig(\"output_data/Northern Hemisphere - Cloudiness (%) vs. Latitude Linear Regression.png\")"
   ]
  },
  {
   "cell_type": "markdown",
   "metadata": {},
   "source": [
    "####  Southern Hemisphere - Cloudiness (%) vs. Latitude Linear Regression"
   ]
  },
  {
   "cell_type": "code",
   "execution_count": 48,
   "metadata": {},
   "outputs": [
    {
     "name": "stdout",
     "output_type": "stream",
     "text": [
      "The r-squared is : 0.23\n"
     ]
    },
    {
     "data": {
      "image/png": "[encoded data removed]",
      "text/plain": [
       "<Figure size 432x288 with 1 Axes>"
      ]
     },
     "metadata": {
      "needs_background": "light"
     },
     "output_type": "display_data"
    },
    {
     "data": {
      "text/plain": [
       "<Figure size 432x288 with 0 Axes>"
      ]
     },
     "metadata": {},
     "output_type": "display_data"
    }
   ],
   "source": [
    "plt.title(\"Southern Hemisphere - Cloudiness (%) vs. Latitude Linear Regression\")\n",
    "x_values = southern_hemi['Latitude']\n",
    "y_values = southern_hemi['Cloudiness']\n",
    "linear_plot(x_values, y_values,\"Cloudiness\",(-30,28))\n",
    "plt.savefig(\"output_data/Southern Hemisphere - Cloudiness (%) vs. Latitude Linear Regression.png\")"
   ]
  },
  {
   "cell_type": "markdown",
   "metadata": {},
   "source": [
    "####  Northern Hemisphere - Wind Speed (mph) vs. Latitude Linear Regression"
   ]
  },
  {
   "cell_type": "code",
   "execution_count": 49,
   "metadata": {},
   "outputs": [
    {
     "name": "stdout",
     "output_type": "stream",
     "text": [
      "The r-squared is : 0.19\n"
     ]
    },
    {
     "data": {
      "image/png": "[encoded data removed]",
      "text/plain": [
       "<Figure size 432x288 with 1 Axes>"
      ]
     },
     "metadata": {
      "needs_background": "light"
     },
     "output_type": "display_data"
    },
    {
     "data": {
      "text/plain": [
       "<Figure size 432x288 with 0 Axes>"
      ]
     },
     "metadata": {},
     "output_type": "display_data"
    }
   ],
   "source": [
    "plt.title(\"Northern Hemisphere - Wind Speed (mph) vs. Latitude Linear Regression\")\n",
    "x_values = northern_hemi['Latitude']\n",
    "y_values = northern_hemi['Wind Speed']\n",
    "linear_plot(x_values, y_values,\"Wind Speed\",(47,30))\n",
    "plt.savefig(\"output_data/Northern Hemisphere - Wind Speed vs. Latitude Linear Regression.png\")"
   ]
  },
  {
   "cell_type": "markdown",
   "metadata": {},
   "source": [
    "####  Southern Hemisphere - Wind Speed (mph) vs. Latitude Linear Regression"
   ]
  },
  {
   "cell_type": "code",
   "execution_count": 52,
   "metadata": {},
   "outputs": [
    {
     "name": "stdout",
     "output_type": "stream",
     "text": [
      "The r-squared is : -0.08\n"
     ]
    },
    {
     "data": {
      "image/png": "[encoded data removed]",
      "text/plain": [
       "<Figure size 432x288 with 1 Axes>"
      ]
     },
     "metadata": {
      "needs_background": "light"
     },
     "output_type": "display_data"
    },
    {
     "data": {
      "text/plain": [
       "<Figure size 432x288 with 0 Axes>"
      ]
     },
     "metadata": {},
     "output_type": "display_data"
    }
   ],
   "source": [
    "plt.title(\"Southern Hemisphere - Wind Speed (mph) vs. Latitude Linear Regression\")\n",
    "x_values = southern_hemi['Latitude']\n",
    "y_values = southern_hemi['Wind Speed']\n",
    "linear_plot(x_values, y_values,\"Wind Speed\",(-20,25))\n",
    "plt.savefig(\"output_data/Southern Hemisphere - Wind Speed vs. Latitude Linear Regression.png\")"
   ]
  },
  {
   "cell_type": "markdown",
   "metadata": {},
   "source": [
    "## Analysis and Observations\n",
    "\n",
    "Of the four weather measures examined versus changes in latitude the strongest correlation was found between Northern Hemisphere changes in latitude versus temperature. This relationship had a high r-squared value of -0.87 meaning that 87% of the variance in this data could be explained by the equation of the line from linear regression.\n",
    "\n",
    "Some observable trends based on linear regression data:\n",
    "\n",
    "* Max temperature increases as you move north from the equator.\n",
    "* In the Northern Hemisphere Humidity is weakly correlated to increase as you increase in latitude.\n",
    "* In the Southern Hemisphere Humidity is weakly correlated to decrease as you move south in latitude.\n",
    "* Cloudiness is not correlated to latitude in the Northern Hemisphere.\n",
    "* Cloudiness is weakly correlated as you move south in latitude in the Southern Hemisphere.\n",
    "* Wind Speed is not correlated to latitude in the Northern Hemisphere.\n",
    "* In the Southern Hemisphere, Wind Speed is weakly correlated to increase as you move south in latitude."
   ]
  },
  {
   "cell_type": "code",
   "execution_count": null,
   "metadata": {},
   "outputs": [],
   "source": []
  }
 ],
 "metadata": {
  "anaconda-cloud": {},
  "kernel_info": {
   "name": "python3"
  },
  "kernelspec": {
   "display_name": "Python 3",
   "language": "python",
   "name": "python3"
  },
  "language_info": {
   "codemirror_mode": {
    "name": "ipython",
    "version": 3
   },
   "file_extension": ".py",
   "mimetype": "text/x-python",
   "name": "python",
   "nbconvert_exporter": "python",
   "pygments_lexer": "ipython3",
   "version": "3.6.12"
  },
  "latex_envs": {
   "LaTeX_envs_menu_present": true,
   "autoclose": false,
   "autocomplete": true,
   "bibliofile": "biblio.bib",
   "cite_by": "apalike",
   "current_citInitial": 1,
   "eqLabelWithNumbers": true,
   "eqNumInitial": 1,
   "hotkeys": {
    "equation": "Ctrl-E",
    "itemize": "Ctrl-I"
   },
   "labels_anchors": false,
   "latex_user_defs": false,
   "report_style_numbering": false,
   "user_envs_cfg": false
  },
  "nteract": {
   "version": "0.12.3"
  }
 },
 "nbformat": 4,
 "nbformat_minor": 2
}
